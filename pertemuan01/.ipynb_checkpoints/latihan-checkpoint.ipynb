{
 "cells": [
  {
   "cell_type": "markdown",
   "metadata": {
    "id": "2mtpHgvrPGCq"
   },
   "source": [
    "# 1 - MicroUdinus"
   ]
  },
  {
   "cell_type": "code",
   "execution_count": null,
   "metadata": {
    "executionInfo": {
     "elapsed": 629,
     "status": "ok",
     "timestamp": 1635665264098,
     "user": {
      "displayName": "FARRIKH ALZAMI",
      "photoUrl": "https://lh3.googleusercontent.com/a-/AOh14Gi1lzvhHndeQmiKlqEq7M2inxcOXaxmadhKfFgzYQ=s64",
      "userId": "09601244423189128443"
     },
     "user_tz": -420
    },
    "id": "tokD-QXMPvd6"
   },
   "outputs": [],
   "source": []
  },
  {
   "cell_type": "code",
   "execution_count": 2,
   "metadata": {
    "executionInfo": {
     "elapsed": 379,
     "status": "ok",
     "timestamp": 1635665347894,
     "user": {
      "displayName": "FARRIKH ALZAMI",
      "photoUrl": "https://lh3.googleusercontent.com/a-/AOh14Gi1lzvhHndeQmiKlqEq7M2inxcOXaxmadhKfFgzYQ=s64",
      "userId": "09601244423189128443"
     },
     "user_tz": -420
    },
    "id": "XBp65AW8PzkR"
   },
   "outputs": [],
   "source": []
  },
  {
   "cell_type": "code",
   "execution_count": 3,
   "metadata": {
    "executionInfo": {
     "elapsed": 1352,
     "status": "ok",
     "timestamp": 1635665364675,
     "user": {
      "displayName": "FARRIKH ALZAMI",
      "photoUrl": "https://lh3.googleusercontent.com/a-/AOh14Gi1lzvhHndeQmiKlqEq7M2inxcOXaxmadhKfFgzYQ=s64",
      "userId": "09601244423189128443"
     },
     "user_tz": -420
    },
    "id": "m_NQYVscQIGG"
   },
   "outputs": [],
   "source": []
  },
  {
   "cell_type": "code",
   "execution_count": null,
   "metadata": {
    "colab": {
     "base_uri": "https://localhost:8080/",
     "height": 241
    },
    "executionInfo": {
     "elapsed": 427,
     "status": "ok",
     "timestamp": 1635665371520,
     "user": {
      "displayName": "FARRIKH ALZAMI",
      "photoUrl": "https://lh3.googleusercontent.com/a-/AOh14Gi1lzvhHndeQmiKlqEq7M2inxcOXaxmadhKfFgzYQ=s64",
      "userId": "09601244423189128443"
     },
     "user_tz": -420
    },
    "id": "XjvKsaRoQLwf",
    "outputId": "ec892783-2464-4a56-ce03-350924766f6d"
   },
   "outputs": [],
   "source": []
  },
  {
   "cell_type": "code",
   "execution_count": null,
   "metadata": {},
   "outputs": [],
   "source": []
  }
 ],
 "metadata": {
  "colab": {
   "authorship_tag": "ABX9TyPPps+tC3t+LP/GuREkRBVq",
   "collapsed_sections": [],
   "name": "contoh.ipynb",
   "provenance": []
  },
  "kernelspec": {
   "display_name": "Python 3 (ipykernel)",
   "language": "python",
   "name": "python3"
  },
  "language_info": {
   "codemirror_mode": {
    "name": "ipython",
    "version": 3
   },
   "file_extension": ".py",
   "mimetype": "text/x-python",
   "name": "python",
   "nbconvert_exporter": "python",
   "pygments_lexer": "ipython3",
   "version": "3.9.5"
  }
 },
 "nbformat": 4,
 "nbformat_minor": 1
}
