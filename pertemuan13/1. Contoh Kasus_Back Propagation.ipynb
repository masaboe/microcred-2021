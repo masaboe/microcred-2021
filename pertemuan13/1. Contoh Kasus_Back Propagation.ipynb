{
 "cells": [
  {
   "cell_type": "markdown",
   "id": "19ee1b8b",
   "metadata": {
    "id": "19ee1b8b"
   },
   "source": [
    "![header%20ipynb.png](attachment:header%20ipynb.png)"
   ]
  },
  {
   "cell_type": "code",
   "execution_count": null,
   "id": "9adf571e",
   "metadata": {
    "executionInfo": {
     "elapsed": 1577,
     "status": "ok",
     "timestamp": 1637995273104,
     "user": {
      "displayName": "Ananda A. Ramadhan",
      "photoUrl": "https://lh3.googleusercontent.com/a-/AOh14Ghp6Ch6lGTpZd2AxX-m09cYp6FggnLcazsjdbZheQ=s64",
      "userId": "07322302670416758807"
     },
     "user_tz": -420
    },
    "id": "9adf571e"
   },
   "outputs": [],
   "source": [
    "# Backprop on the Seeds Dataset\n",
    "from random import seed\n",
    "from random import randrange\n",
    "from random import random\n",
    "from csv import reader\n",
    "from math import exp"
   ]
  },
  {
   "cell_type": "code",
   "execution_count": null,
   "id": "10f63e2f",
   "metadata": {
    "executionInfo": {
     "elapsed": 20,
     "status": "ok",
     "timestamp": 1637995273105,
     "user": {
      "displayName": "Ananda A. Ramadhan",
      "photoUrl": "https://lh3.googleusercontent.com/a-/AOh14Ghp6Ch6lGTpZd2AxX-m09cYp6FggnLcazsjdbZheQ=s64",
      "userId": "07322302670416758807"
     },
     "user_tz": -420
    },
    "id": "10f63e2f"
   },
   "outputs": [],
   "source": [
    "# Load a CSV file\n",
    "def load_csv(filename):\n",
    "\tdataset = list()\n",
    "\twith open(filename, 'r') as file:\n",
    "\t\tcsv_reader = reader(file)\n",
    "\t\tfor row in csv_reader:\n",
    "\t\t\tif not row:\n",
    "\t\t\t\tcontinue\n",
    "\t\t\tdataset.append(row)\n",
    "\treturn dataset"
   ]
  },
  {
   "cell_type": "code",
   "execution_count": null,
   "id": "4f16de4e",
   "metadata": {
    "executionInfo": {
     "elapsed": 20,
     "status": "ok",
     "timestamp": 1637995273106,
     "user": {
      "displayName": "Ananda A. Ramadhan",
      "photoUrl": "https://lh3.googleusercontent.com/a-/AOh14Ghp6Ch6lGTpZd2AxX-m09cYp6FggnLcazsjdbZheQ=s64",
      "userId": "07322302670416758807"
     },
     "user_tz": -420
    },
    "id": "4f16de4e"
   },
   "outputs": [],
   "source": [
    "# Convert string column to float\n",
    "def str_column_to_float(dataset, column):\n",
    "\tfor row in dataset:\n",
    "\t\trow[column] = float(row[column].strip())"
   ]
  },
  {
   "cell_type": "code",
   "execution_count": null,
   "id": "6b4e5109",
   "metadata": {
    "executionInfo": {
     "elapsed": 19,
     "status": "ok",
     "timestamp": 1637995273106,
     "user": {
      "displayName": "Ananda A. Ramadhan",
      "photoUrl": "https://lh3.googleusercontent.com/a-/AOh14Ghp6Ch6lGTpZd2AxX-m09cYp6FggnLcazsjdbZheQ=s64",
      "userId": "07322302670416758807"
     },
     "user_tz": -420
    },
    "id": "6b4e5109"
   },
   "outputs": [],
   "source": [
    "# Convert string column to integer\n",
    "def str_column_to_int(dataset, column):\n",
    "\tclass_values = [row[column] for row in dataset]\n",
    "\tunique = set(class_values)\n",
    "\tlookup = dict()\n",
    "\tfor i, value in enumerate(unique):\n",
    "\t\tlookup[value] = i\n",
    "\tfor row in dataset:\n",
    "\t\trow[column] = lookup[row[column]]\n",
    "\treturn lookup"
   ]
  },
  {
   "cell_type": "code",
   "execution_count": null,
   "id": "0a0065b9",
   "metadata": {
    "executionInfo": {
     "elapsed": 19,
     "status": "ok",
     "timestamp": 1637995273106,
     "user": {
      "displayName": "Ananda A. Ramadhan",
      "photoUrl": "https://lh3.googleusercontent.com/a-/AOh14Ghp6Ch6lGTpZd2AxX-m09cYp6FggnLcazsjdbZheQ=s64",
      "userId": "07322302670416758807"
     },
     "user_tz": -420
    },
    "id": "0a0065b9"
   },
   "outputs": [],
   "source": [
    "# Find the min and max values for each column\n",
    "def dataset_minmax(dataset):\n",
    "\tminmax = list()\n",
    "\tstats = [[min(column), max(column)] for column in zip(*dataset)]\n",
    "\treturn stats"
   ]
  },
  {
   "cell_type": "code",
   "execution_count": null,
   "id": "60805dfe",
   "metadata": {
    "executionInfo": {
     "elapsed": 19,
     "status": "ok",
     "timestamp": 1637995273107,
     "user": {
      "displayName": "Ananda A. Ramadhan",
      "photoUrl": "https://lh3.googleusercontent.com/a-/AOh14Ghp6Ch6lGTpZd2AxX-m09cYp6FggnLcazsjdbZheQ=s64",
      "userId": "07322302670416758807"
     },
     "user_tz": -420
    },
    "id": "60805dfe"
   },
   "outputs": [],
   "source": [
    "# Rescale dataset columns to the range 0-1\n",
    "def normalize_dataset(dataset, minmax):\n",
    "\tfor row in dataset:\n",
    "\t\tfor i in range(len(row)-1):\n",
    "\t\t\trow[i] = (row[i] - minmax[i][0]) / (minmax[i][1] - minmax[i][0])"
   ]
  },
  {
   "cell_type": "code",
   "execution_count": null,
   "id": "cd244d11",
   "metadata": {
    "executionInfo": {
     "elapsed": 19,
     "status": "ok",
     "timestamp": 1637995273107,
     "user": {
      "displayName": "Ananda A. Ramadhan",
      "photoUrl": "https://lh3.googleusercontent.com/a-/AOh14Ghp6Ch6lGTpZd2AxX-m09cYp6FggnLcazsjdbZheQ=s64",
      "userId": "07322302670416758807"
     },
     "user_tz": -420
    },
    "id": "cd244d11"
   },
   "outputs": [],
   "source": [
    "# Split a dataset into k folds\n",
    "def cross_validation_split(dataset, n_folds):\n",
    "\tdataset_split = list()\n",
    "\tdataset_copy = list(dataset)\n",
    "\tfold_size = int(len(dataset) / n_folds)\n",
    "\tfor i in range(n_folds):\n",
    "\t\tfold = list()\n",
    "\t\twhile len(fold) < fold_size:\n",
    "\t\t\tindex = randrange(len(dataset_copy))\n",
    "\t\t\tfold.append(dataset_copy.pop(index))\n",
    "\t\tdataset_split.append(fold)\n",
    "\treturn dataset_split"
   ]
  },
  {
   "cell_type": "code",
   "execution_count": null,
   "id": "dee76195",
   "metadata": {
    "executionInfo": {
     "elapsed": 18,
     "status": "ok",
     "timestamp": 1637995273107,
     "user": {
      "displayName": "Ananda A. Ramadhan",
      "photoUrl": "https://lh3.googleusercontent.com/a-/AOh14Ghp6Ch6lGTpZd2AxX-m09cYp6FggnLcazsjdbZheQ=s64",
      "userId": "07322302670416758807"
     },
     "user_tz": -420
    },
    "id": "dee76195"
   },
   "outputs": [],
   "source": [
    "# Calculate accuracy percentage\n",
    "def accuracy_metric(actual, predicted):\n",
    "\tcorrect = 0\n",
    "\tfor i in range(len(actual)):\n",
    "\t\tif actual[i] == predicted[i]:\n",
    "\t\t\tcorrect += 1\n",
    "\treturn correct / float(len(actual)) * 100.0"
   ]
  },
  {
   "cell_type": "code",
   "execution_count": null,
   "id": "205ac57c",
   "metadata": {
    "executionInfo": {
     "elapsed": 18,
     "status": "ok",
     "timestamp": 1637995273107,
     "user": {
      "displayName": "Ananda A. Ramadhan",
      "photoUrl": "https://lh3.googleusercontent.com/a-/AOh14Ghp6Ch6lGTpZd2AxX-m09cYp6FggnLcazsjdbZheQ=s64",
      "userId": "07322302670416758807"
     },
     "user_tz": -420
    },
    "id": "205ac57c"
   },
   "outputs": [],
   "source": [
    "# Evaluate an algorithm using a cross validation split\n",
    "def evaluate_algorithm(dataset, algorithm, n_folds, *args):\n",
    "\tfolds = cross_validation_split(dataset, n_folds)\n",
    "\tscores = list()\n",
    "\tfor fold in folds:\n",
    "\t\ttrain_set = list(folds)\n",
    "\t\ttrain_set.remove(fold)\n",
    "\t\ttrain_set = sum(train_set, [])\n",
    "\t\ttest_set = list()\n",
    "\t\tfor row in fold:\n",
    "\t\t\trow_copy = list(row)\n",
    "\t\t\ttest_set.append(row_copy)\n",
    "\t\t\trow_copy[-1] = None\n",
    "\t\tpredicted = algorithm(train_set, test_set, *args)\n",
    "\t\tactual = [row[-1] for row in fold]\n",
    "\t\taccuracy = accuracy_metric(actual, predicted)\n",
    "\t\tscores.append(accuracy)\n",
    "\treturn scores"
   ]
  },
  {
   "cell_type": "code",
   "execution_count": null,
   "id": "cbf1ff11",
   "metadata": {
    "executionInfo": {
     "elapsed": 18,
     "status": "ok",
     "timestamp": 1637995273108,
     "user": {
      "displayName": "Ananda A. Ramadhan",
      "photoUrl": "https://lh3.googleusercontent.com/a-/AOh14Ghp6Ch6lGTpZd2AxX-m09cYp6FggnLcazsjdbZheQ=s64",
      "userId": "07322302670416758807"
     },
     "user_tz": -420
    },
    "id": "cbf1ff11"
   },
   "outputs": [],
   "source": [
    "# Calculate neuron activation for an input\n",
    "def activate(weights, inputs):\n",
    "\tactivation = weights[-1]\n",
    "\tfor i in range(len(weights)-1):\n",
    "\t\tactivation += weights[i] * inputs[i]\n",
    "\treturn activation"
   ]
  },
  {
   "cell_type": "code",
   "execution_count": null,
   "id": "3f57abc6",
   "metadata": {
    "executionInfo": {
     "elapsed": 18,
     "status": "ok",
     "timestamp": 1637995273108,
     "user": {
      "displayName": "Ananda A. Ramadhan",
      "photoUrl": "https://lh3.googleusercontent.com/a-/AOh14Ghp6Ch6lGTpZd2AxX-m09cYp6FggnLcazsjdbZheQ=s64",
      "userId": "07322302670416758807"
     },
     "user_tz": -420
    },
    "id": "3f57abc6"
   },
   "outputs": [],
   "source": [
    "# Transfer neuron activation\n",
    "def transfer(activation):\n",
    "\treturn 1.0 / (1.0 + exp(-activation))"
   ]
  },
  {
   "cell_type": "code",
   "execution_count": null,
   "id": "aa66f086",
   "metadata": {
    "executionInfo": {
     "elapsed": 17,
     "status": "ok",
     "timestamp": 1637995273108,
     "user": {
      "displayName": "Ananda A. Ramadhan",
      "photoUrl": "https://lh3.googleusercontent.com/a-/AOh14Ghp6Ch6lGTpZd2AxX-m09cYp6FggnLcazsjdbZheQ=s64",
      "userId": "07322302670416758807"
     },
     "user_tz": -420
    },
    "id": "aa66f086"
   },
   "outputs": [],
   "source": [
    "# Forward propagate input to a network output\n",
    "def forward_propagate(network, row):\n",
    "\tinputs = row\n",
    "\tfor layer in network:\n",
    "\t\tnew_inputs = []\n",
    "\t\tfor neuron in layer:\n",
    "\t\t\tactivation = activate(neuron['weights'], inputs)\n",
    "\t\t\tneuron['output'] = transfer(activation)\n",
    "\t\t\tnew_inputs.append(neuron['output'])\n",
    "\t\tinputs = new_inputs\n",
    "\treturn inputs"
   ]
  },
  {
   "cell_type": "code",
   "execution_count": null,
   "id": "5bc8105a",
   "metadata": {
    "executionInfo": {
     "elapsed": 17,
     "status": "ok",
     "timestamp": 1637995273108,
     "user": {
      "displayName": "Ananda A. Ramadhan",
      "photoUrl": "https://lh3.googleusercontent.com/a-/AOh14Ghp6Ch6lGTpZd2AxX-m09cYp6FggnLcazsjdbZheQ=s64",
      "userId": "07322302670416758807"
     },
     "user_tz": -420
    },
    "id": "5bc8105a"
   },
   "outputs": [],
   "source": [
    "# Calculate the derivative of an neuron output\n",
    "def transfer_derivative(output):\n",
    "\treturn output * (1.0 - output)"
   ]
  },
  {
   "cell_type": "code",
   "execution_count": null,
   "id": "f7e69a7f",
   "metadata": {
    "executionInfo": {
     "elapsed": 18,
     "status": "ok",
     "timestamp": 1637995273109,
     "user": {
      "displayName": "Ananda A. Ramadhan",
      "photoUrl": "https://lh3.googleusercontent.com/a-/AOh14Ghp6Ch6lGTpZd2AxX-m09cYp6FggnLcazsjdbZheQ=s64",
      "userId": "07322302670416758807"
     },
     "user_tz": -420
    },
    "id": "f7e69a7f"
   },
   "outputs": [],
   "source": [
    "# Backpropagate error and store in neurons\n",
    "def backward_propagate_error(network, expected):\n",
    "\tfor i in reversed(range(len(network))):\n",
    "\t\tlayer = network[i]\n",
    "\t\terrors = list()\n",
    "\t\tif i != len(network)-1:\n",
    "\t\t\tfor j in range(len(layer)):\n",
    "\t\t\t\terror = 0.0\n",
    "\t\t\t\tfor neuron in network[i + 1]:\n",
    "\t\t\t\t\terror += (neuron['weights'][j] * neuron['delta'])\n",
    "\t\t\t\terrors.append(error)\n",
    "\t\telse:\n",
    "\t\t\tfor j in range(len(layer)):\n",
    "\t\t\t\tneuron = layer[j]\n",
    "\t\t\t\terrors.append(neuron['output'] - expected[j])\n",
    "\t\tfor j in range(len(layer)):\n",
    "\t\t\tneuron = layer[j]\n",
    "\t\t\tneuron['delta'] = errors[j] * transfer_derivative(neuron['output'])"
   ]
  },
  {
   "cell_type": "code",
   "execution_count": null,
   "id": "92c9928e",
   "metadata": {
    "executionInfo": {
     "elapsed": 17,
     "status": "ok",
     "timestamp": 1637995273109,
     "user": {
      "displayName": "Ananda A. Ramadhan",
      "photoUrl": "https://lh3.googleusercontent.com/a-/AOh14Ghp6Ch6lGTpZd2AxX-m09cYp6FggnLcazsjdbZheQ=s64",
      "userId": "07322302670416758807"
     },
     "user_tz": -420
    },
    "id": "92c9928e"
   },
   "outputs": [],
   "source": [
    "# Update network weights with error\n",
    "def update_weights(network, row, l_rate):\n",
    "\tfor i in range(len(network)):\n",
    "\t\tinputs = row[:-1]\n",
    "\t\tif i != 0:\n",
    "\t\t\tinputs = [neuron['output'] for neuron in network[i - 1]]\n",
    "\t\tfor neuron in network[i]:\n",
    "\t\t\tfor j in range(len(inputs)):\n",
    "\t\t\t\tneuron['weights'][j] -= l_rate * neuron['delta'] * inputs[j]\n",
    "\t\t\tneuron['weights'][-1] -= l_rate * neuron['delta']"
   ]
  },
  {
   "cell_type": "code",
   "execution_count": null,
   "id": "f5f71fdb",
   "metadata": {
    "executionInfo": {
     "elapsed": 17,
     "status": "ok",
     "timestamp": 1637995273109,
     "user": {
      "displayName": "Ananda A. Ramadhan",
      "photoUrl": "https://lh3.googleusercontent.com/a-/AOh14Ghp6Ch6lGTpZd2AxX-m09cYp6FggnLcazsjdbZheQ=s64",
      "userId": "07322302670416758807"
     },
     "user_tz": -420
    },
    "id": "f5f71fdb"
   },
   "outputs": [],
   "source": [
    "# Train a network for a fixed number of epochs\n",
    "def train_network(network, train, l_rate, n_epoch, n_outputs):\n",
    "\tfor epoch in range(n_epoch):\n",
    "\t\tfor row in train:\n",
    "\t\t\toutputs = forward_propagate(network, row)\n",
    "\t\t\texpected = [0 for i in range(n_outputs)]\n",
    "\t\t\texpected[row[-1]] = 1\n",
    "\t\t\tbackward_propagate_error(network, expected)\n",
    "\t\t\tupdate_weights(network, row, l_rate)"
   ]
  },
  {
   "cell_type": "code",
   "execution_count": null,
   "id": "98cfe8f6",
   "metadata": {
    "executionInfo": {
     "elapsed": 16,
     "status": "ok",
     "timestamp": 1637995273109,
     "user": {
      "displayName": "Ananda A. Ramadhan",
      "photoUrl": "https://lh3.googleusercontent.com/a-/AOh14Ghp6Ch6lGTpZd2AxX-m09cYp6FggnLcazsjdbZheQ=s64",
      "userId": "07322302670416758807"
     },
     "user_tz": -420
    },
    "id": "98cfe8f6"
   },
   "outputs": [],
   "source": [
    "# Initialize a network\n",
    "def initialize_network(n_inputs, n_hidden, n_outputs):\n",
    "\tnetwork = list()\n",
    "\thidden_layer = [{'weights':[random() for i in range(n_inputs + 1)]} for i in range(n_hidden)]\n",
    "\tnetwork.append(hidden_layer)\n",
    "\toutput_layer = [{'weights':[random() for i in range(n_hidden + 1)]} for i in range(n_outputs)]\n",
    "\tnetwork.append(output_layer)\n",
    "\treturn network"
   ]
  },
  {
   "cell_type": "code",
   "execution_count": null,
   "id": "dfb12353",
   "metadata": {
    "executionInfo": {
     "elapsed": 17,
     "status": "ok",
     "timestamp": 1637995273110,
     "user": {
      "displayName": "Ananda A. Ramadhan",
      "photoUrl": "https://lh3.googleusercontent.com/a-/AOh14Ghp6Ch6lGTpZd2AxX-m09cYp6FggnLcazsjdbZheQ=s64",
      "userId": "07322302670416758807"
     },
     "user_tz": -420
    },
    "id": "dfb12353"
   },
   "outputs": [],
   "source": [
    "# Make a prediction with a network\n",
    "def predict(network, row):\n",
    "\toutputs = forward_propagate(network, row)\n",
    "\treturn outputs.index(max(outputs))"
   ]
  },
  {
   "cell_type": "code",
   "execution_count": null,
   "id": "81ab074b",
   "metadata": {
    "executionInfo": {
     "elapsed": 16,
     "status": "ok",
     "timestamp": 1637995273110,
     "user": {
      "displayName": "Ananda A. Ramadhan",
      "photoUrl": "https://lh3.googleusercontent.com/a-/AOh14Ghp6Ch6lGTpZd2AxX-m09cYp6FggnLcazsjdbZheQ=s64",
      "userId": "07322302670416758807"
     },
     "user_tz": -420
    },
    "id": "81ab074b"
   },
   "outputs": [],
   "source": [
    "# Backpropagation Algorithm With Stochastic Gradient Descent\n",
    "def back_propagation(train, test, l_rate, n_epoch, n_hidden):\n",
    "\tn_inputs = len(train[0]) - 1\n",
    "\tn_outputs = len(set([row[-1] for row in train]))\n",
    "\tnetwork = initialize_network(n_inputs, n_hidden, n_outputs)\n",
    "\ttrain_network(network, train, l_rate, n_epoch, n_outputs)\n",
    "\tpredictions = list()\n",
    "\tfor row in test:\n",
    "\t\tprediction = predict(network, row)\n",
    "\t\tpredictions.append(prediction)\n",
    "\treturn(predictions)"
   ]
  },
  {
   "cell_type": "code",
   "execution_count": null,
   "id": "db5426a4",
   "metadata": {
    "colab": {
     "base_uri": "https://localhost:8080/",
     "height": 351
    },
    "executionInfo": {
     "elapsed": 16,
     "status": "error",
     "timestamp": 1637995273110,
     "user": {
      "displayName": "Ananda A. Ramadhan",
      "photoUrl": "https://lh3.googleusercontent.com/a-/AOh14Ghp6Ch6lGTpZd2AxX-m09cYp6FggnLcazsjdbZheQ=s64",
      "userId": "07322302670416758807"
     },
     "user_tz": -420
    },
    "id": "db5426a4",
    "outputId": "e4968b97-3a7e-463c-ef4a-da28885362fa"
   },
   "outputs": [],
   "source": [
    "# Test Backprop on Seeds dataset\n",
    "seed(1)\n",
    "# load and prepare data\n",
    "filename = 'wheat-seeds.csv'\n",
    "dataset = load_csv(filename)\n",
    "for i in range(len(dataset[0])-1):\n",
    "\tstr_column_to_float(dataset, i)"
   ]
  },
  {
   "cell_type": "code",
   "execution_count": null,
   "id": "42c5255c",
   "metadata": {
    "executionInfo": {
     "elapsed": 13,
     "status": "aborted",
     "timestamp": 1637995273110,
     "user": {
      "displayName": "Ananda A. Ramadhan",
      "photoUrl": "https://lh3.googleusercontent.com/a-/AOh14Ghp6Ch6lGTpZd2AxX-m09cYp6FggnLcazsjdbZheQ=s64",
      "userId": "07322302670416758807"
     },
     "user_tz": -420
    },
    "id": "42c5255c"
   },
   "outputs": [],
   "source": [
    "# convert class column to integers\n",
    "str_column_to_int(dataset, len(dataset[0])-1)\n",
    "# normalize input variables\n",
    "minmax = dataset_minmax(dataset)\n",
    "normalize_dataset(dataset, minmax)"
   ]
  },
  {
   "cell_type": "code",
   "execution_count": null,
   "id": "8dfcff1c",
   "metadata": {
    "executionInfo": {
     "elapsed": 13,
     "status": "aborted",
     "timestamp": 1637995273110,
     "user": {
      "displayName": "Ananda A. Ramadhan",
      "photoUrl": "https://lh3.googleusercontent.com/a-/AOh14Ghp6Ch6lGTpZd2AxX-m09cYp6FggnLcazsjdbZheQ=s64",
      "userId": "07322302670416758807"
     },
     "user_tz": -420
    },
    "id": "8dfcff1c"
   },
   "outputs": [],
   "source": [
    "# evaluate algorithm\n",
    "n_folds = 5\n",
    "l_rate = 0.3\n",
    "n_epoch = 500\n",
    "n_hidden = 5\n",
    "scores = evaluate_algorithm(dataset, back_propagation, n_folds, l_rate, n_epoch, n_hidden)\n",
    "print('Scores: %s' % scores)\n",
    "print('Mean Accuracy: %.3f%%' % (sum(scores)/float(len(scores))))"
   ]
  }
 ],
 "metadata": {
  "colab": {
   "name": "1. Contoh Kasus_Back Propagation.ipynb",
   "provenance": []
  },
  "kernelspec": {
   "display_name": "Python 3 (ipykernel)",
   "language": "python",
   "name": "python3"
  },
  "language_info": {
   "codemirror_mode": {
    "name": "ipython",
    "version": 3
   },
   "file_extension": ".py",
   "mimetype": "text/x-python",
   "name": "python",
   "nbconvert_exporter": "python",
   "pygments_lexer": "ipython3",
   "version": "3.9.5"
  }
 },
 "nbformat": 4,
 "nbformat_minor": 5
}
