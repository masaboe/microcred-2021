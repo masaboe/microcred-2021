{
 "cells": [
  {
   "cell_type": "markdown",
   "metadata": {
    "id": "RmbevFuLIpVU"
   },
   "source": [
    "![header%20ipynb.png](attachment:header%20ipynb.png)"
   ]
  },
  {
   "cell_type": "markdown",
   "metadata": {
    "id": "VUZDE9sTIpVY"
   },
   "source": [
    "<div class=\"alert alert-block alert-danger\">\n",
    "<b>Package version :</b>\n",
    "    <ol>\n",
    "    <li>Tensorflow 2.4.1</li>\n",
    "    <li>Keras 2.4.3</li>\n",
    "    <li>Matplotlib 3.5.0</li>\n",
    "    <li>Scikit-learn 0.23.2</li>\n",
    "    </ol>\n",
    "</div>"
   ]
  },
  {
   "cell_type": "code",
   "execution_count": null,
   "metadata": {
    "executionInfo": {
     "elapsed": 6,
     "status": "ok",
     "timestamp": 1637995479232,
     "user": {
      "displayName": "Ananda A. Ramadhan",
      "photoUrl": "https://lh3.googleusercontent.com/a-/AOh14Ghp6Ch6lGTpZd2AxX-m09cYp6FggnLcazsjdbZheQ=s64",
      "userId": "07322302670416758807"
     },
     "user_tz": -420
    },
    "id": "iE0h3uQWIpVZ"
   },
   "outputs": [],
   "source": [
    "## Just disables the warning, doesn't take advantage of AVX/FMA to run faster\n",
    "# import os\n",
    "# os.environ['TF_CPP_MIN_LOG_LEVEL'] = '2'"
   ]
  },
  {
   "cell_type": "code",
   "execution_count": 2,
   "metadata": {
    "executionInfo": {
     "elapsed": 1137,
     "status": "ok",
     "timestamp": 1637995480365,
     "user": {
      "displayName": "Ananda A. Ramadhan",
      "photoUrl": "https://lh3.googleusercontent.com/a-/AOh14Ghp6Ch6lGTpZd2AxX-m09cYp6FggnLcazsjdbZheQ=s64",
      "userId": "07322302670416758807"
     },
     "user_tz": -420
    },
    "id": "YtGw8AoLIpVZ"
   },
   "outputs": [],
   "source": [
    "from sklearn import datasets\n",
    "from sklearn.model_selection import train_test_split\n",
    "\n",
    "iris = datasets.load_iris()\n",
    "\n",
    "X = iris.data\n",
    "y = iris.target"
   ]
  },
  {
   "cell_type": "code",
   "execution_count": 3,
   "metadata": {
    "colab": {
     "base_uri": "https://localhost:8080/"
    },
    "executionInfo": {
     "elapsed": 7,
     "status": "ok",
     "timestamp": 1637995480365,
     "user": {
      "displayName": "Ananda A. Ramadhan",
      "photoUrl": "https://lh3.googleusercontent.com/a-/AOh14Ghp6Ch6lGTpZd2AxX-m09cYp6FggnLcazsjdbZheQ=s64",
      "userId": "07322302670416758807"
     },
     "user_tz": -420
    },
    "id": "DFm32ZjpIpVa",
    "outputId": "bde87b21-733d-4195-a578-670fd063f328"
   },
   "outputs": [
    {
     "name": "stdout",
     "output_type": "stream",
     "text": [
      "X_train (114, 4)\n",
      "X_val (21, 4)\n",
      "X_test (15, 4)\n"
     ]
    }
   ],
   "source": [
    "X_train, X_test, Y_train, Y_test = train_test_split(X, y, test_size=.10)\n",
    "X_train, X_val, Y_train, Y_val = train_test_split(X_train, Y_train, test_size=.15)\n",
    "print('X_train', X_train.shape)\n",
    "print('X_val', X_val.shape)\n",
    "print('X_test', X_test.shape)"
   ]
  },
  {
   "cell_type": "code",
   "execution_count": 4,
   "metadata": {
    "executionInfo": {
     "elapsed": 4,
     "status": "ok",
     "timestamp": 1637995480365,
     "user": {
      "displayName": "Ananda A. Ramadhan",
      "photoUrl": "https://lh3.googleusercontent.com/a-/AOh14Ghp6Ch6lGTpZd2AxX-m09cYp6FggnLcazsjdbZheQ=s64",
      "userId": "07322302670416758807"
     },
     "user_tz": -420
    },
    "id": "WOYFwz-YIpVa"
   },
   "outputs": [],
   "source": [
    "from sklearn.neural_network import MLPClassifier\n",
    "\n",
    "mlp = MLPClassifier(hidden_layer_sizes=(64, ), activation='relu',max_iter=1000, epsilon=1e-08)"
   ]
  },
  {
   "cell_type": "code",
   "execution_count": 5,
   "metadata": {
    "colab": {
     "base_uri": "https://localhost:8080/"
    },
    "executionInfo": {
     "elapsed": 488,
     "status": "ok",
     "timestamp": 1637995480849,
     "user": {
      "displayName": "Ananda A. Ramadhan",
      "photoUrl": "https://lh3.googleusercontent.com/a-/AOh14Ghp6Ch6lGTpZd2AxX-m09cYp6FggnLcazsjdbZheQ=s64",
      "userId": "07322302670416758807"
     },
     "user_tz": -420
    },
    "id": "NsNp6XhOIpVa",
    "outputId": "0eef77d7-4b70-4117-aec7-a63332520a84"
   },
   "outputs": [
    {
     "name": "stdout",
     "output_type": "stream",
     "text": [
      "Akurasi Validasi Training ANN: 1.0\n"
     ]
    }
   ],
   "source": [
    "from sklearn.metrics import accuracy_score\n",
    "\n",
    "mlp.fit(X_train, Y_train)\n",
    "prediksi_val = mlp.predict(X_val)\n",
    "acc_val = accuracy_score(Y_val, prediksi_val)\n",
    "print('Akurasi Validasi Training ANN:', acc_val)"
   ]
  },
  {
   "cell_type": "code",
   "execution_count": 6,
   "metadata": {
    "colab": {
     "base_uri": "https://localhost:8080/"
    },
    "executionInfo": {
     "elapsed": 8,
     "status": "ok",
     "timestamp": 1637995480849,
     "user": {
      "displayName": "Ananda A. Ramadhan",
      "photoUrl": "https://lh3.googleusercontent.com/a-/AOh14Ghp6Ch6lGTpZd2AxX-m09cYp6FggnLcazsjdbZheQ=s64",
      "userId": "07322302670416758807"
     },
     "user_tz": -420
    },
    "id": "_y56PN_vIpVb",
    "outputId": "a0583fdb-b59a-475a-9d23-fd2dc8247156"
   },
   "outputs": [
    {
     "name": "stdout",
     "output_type": "stream",
     "text": [
      "Akurasi Testing ANN: 1.0\n"
     ]
    }
   ],
   "source": [
    "prediksi_test = mlp.predict(X_test)\n",
    "acc_test = accuracy_score(Y_test, prediksi_test)\n",
    "print('Akurasi Testing ANN:', acc_test)"
   ]
  },
  {
   "cell_type": "code",
   "execution_count": 7,
   "metadata": {
    "colab": {
     "base_uri": "https://localhost:8080/",
     "height": 354
    },
    "executionInfo": {
     "elapsed": 675,
     "status": "ok",
     "timestamp": 1637995481521,
     "user": {
      "displayName": "Ananda A. Ramadhan",
      "photoUrl": "https://lh3.googleusercontent.com/a-/AOh14Ghp6Ch6lGTpZd2AxX-m09cYp6FggnLcazsjdbZheQ=s64",
      "userId": "07322302670416758807"
     },
     "user_tz": -420
    },
    "id": "iKEn2Lp8IpVb",
    "outputId": "a67654c9-229b-40f5-bee4-9e041615bbb2"
   },
   "outputs": [
    {
     "name": "stdout",
     "output_type": "stream",
     "text": [
      "Akurasi Testing ANN: 1.0\n"
     ]
    },
    {
     "data": {
      "image/png": "[encoded data removed]",
      "text/plain": [
       "<Figure size 432x288 with 2 Axes>"
      ]
     },
     "metadata": {
      "needs_background": "light"
     },
     "output_type": "display_data"
    }
   ],
   "source": [
    "from sklearn.metrics import accuracy_score, plot_confusion_matrix\n",
    "\n",
    "prediksi = mlp.predict(X_test)\n",
    "plot_confusion_matrix(mlp, X_test, Y_test)\n",
    "accuracy = accuracy_score(Y_test, prediksi)\n",
    "print('Akurasi Testing ANN:', accuracy)"
   ]
  },
  {
   "cell_type": "code",
   "execution_count": 8,
   "metadata": {
    "executionInfo": {
     "elapsed": 2189,
     "status": "ok",
     "timestamp": 1637995483704,
     "user": {
      "displayName": "Ananda A. Ramadhan",
      "photoUrl": "https://lh3.googleusercontent.com/a-/AOh14Ghp6Ch6lGTpZd2AxX-m09cYp6FggnLcazsjdbZheQ=s64",
      "userId": "07322302670416758807"
     },
     "user_tz": -420
    },
    "id": "vnnyUNyyIpVb"
   },
   "outputs": [],
   "source": [
    "# from keras.utils import to_categorical\n",
    "\n",
    "from tensorflow.keras.utils import to_categorical\n",
    "\n",
    "\n",
    "Y_train = to_categorical(Y_train,3)\n",
    "Y_val = to_categorical(Y_val,3)\n",
    "Y_test = to_categorical(Y_test,3)"
   ]
  },
  {
   "cell_type": "code",
   "execution_count": 9,
   "metadata": {
    "executionInfo": {
     "elapsed": 4,
     "status": "ok",
     "timestamp": 1637995483705,
     "user": {
      "displayName": "Ananda A. Ramadhan",
      "photoUrl": "https://lh3.googleusercontent.com/a-/AOh14Ghp6Ch6lGTpZd2AxX-m09cYp6FggnLcazsjdbZheQ=s64",
      "userId": "07322302670416758807"
     },
     "user_tz": -420
    },
    "id": "XML8SdvdIpVb"
   },
   "outputs": [
    {
     "name": "stderr",
     "output_type": "stream",
     "text": [
      "2021-11-29 11:31:34.313637: I tensorflow/core/platform/cpu_feature_guard.cc:142] This TensorFlow binary is optimized with oneAPI Deep Neural Network Library (oneDNN) to use the following CPU instructions in performance-critical operations:  AVX2 FMA\n",
      "To enable them in other operations, rebuild TensorFlow with the appropriate compiler flags.\n"
     ]
    }
   ],
   "source": [
    "from keras.models import Sequential\n",
    "from keras.layers import Flatten, Dense\n",
    "\n",
    "model = Sequential()\n",
    "model.add(Flatten())\n",
    "model.add(Dense(64,activation='relu'))\n",
    "model.add(Dense(3,activation='softmax'))\n",
    "\n",
    "model.compile(optimizer='adam',loss='categorical_crossentropy', metrics=['acc'])"
   ]
  },
  {
   "cell_type": "code",
   "execution_count": 10,
   "metadata": {
    "colab": {
     "base_uri": "https://localhost:8080/"
    },
    "executionInfo": {
     "elapsed": 6177,
     "status": "ok",
     "timestamp": 1637995489879,
     "user": {
      "displayName": "Ananda A. Ramadhan",
      "photoUrl": "https://lh3.googleusercontent.com/a-/AOh14Ghp6Ch6lGTpZd2AxX-m09cYp6FggnLcazsjdbZheQ=s64",
      "userId": "07322302670416758807"
     },
     "user_tz": -420
    },
    "id": "c8jqrlzvIpVb",
    "outputId": "9ec0e6b6-b2b1-4452-de3e-304a62bdea0e"
   },
   "outputs": [
    {
     "name": "stderr",
     "output_type": "stream",
     "text": [
      "2021-11-29 11:32:12.187848: I tensorflow/compiler/mlir/mlir_graph_optimization_pass.cc:185] None of the MLIR Optimization Passes are enabled (registered 2)\n"
     ]
    },
    {
     "name": "stdout",
     "output_type": "stream",
     "text": [
      "Epoch 1/100\n",
      "12/12 [==============================] - 1s 25ms/step - loss: 1.9631 - acc: 0.3158 - val_loss: 1.4293 - val_acc: 0.3810\n",
      "Epoch 2/100\n",
      "12/12 [==============================] - 0s 6ms/step - loss: 1.4449 - acc: 0.3158 - val_loss: 1.1360 - val_acc: 0.3810\n",
      "Epoch 3/100\n",
      "12/12 [==============================] - 0s 6ms/step - loss: 1.1642 - acc: 0.3246 - val_loss: 1.0697 - val_acc: 0.2857\n",
      "Epoch 4/100\n",
      "12/12 [==============================] - 0s 4ms/step - loss: 1.0484 - acc: 0.3596 - val_loss: 1.0256 - val_acc: 0.2857\n",
      "Epoch 5/100\n",
      "12/12 [==============================] - 0s 7ms/step - loss: 0.9767 - acc: 0.3860 - val_loss: 0.9384 - val_acc: 0.5238\n",
      "Epoch 6/100\n",
      "12/12 [==============================] - 0s 6ms/step - loss: 0.9143 - acc: 0.6754 - val_loss: 0.8643 - val_acc: 0.7143\n",
      "Epoch 7/100\n",
      "12/12 [==============================] - 0s 5ms/step - loss: 0.8587 - acc: 0.6930 - val_loss: 0.8213 - val_acc: 0.6190\n",
      "Epoch 8/100\n",
      "12/12 [==============================] - 0s 6ms/step - loss: 0.8000 - acc: 0.6930 - val_loss: 0.7816 - val_acc: 0.6190\n",
      "Epoch 9/100\n",
      "12/12 [==============================] - 0s 7ms/step - loss: 0.7605 - acc: 0.7018 - val_loss: 0.7307 - val_acc: 0.6667\n",
      "Epoch 10/100\n",
      "12/12 [==============================] - 0s 5ms/step - loss: 0.7158 - acc: 0.7018 - val_loss: 0.7091 - val_acc: 0.6190\n",
      "Epoch 11/100\n",
      "12/12 [==============================] - 0s 6ms/step - loss: 0.6803 - acc: 0.6930 - val_loss: 0.6658 - val_acc: 0.6190\n",
      "Epoch 12/100\n",
      "12/12 [==============================] - 0s 6ms/step - loss: 0.6578 - acc: 0.7719 - val_loss: 0.6276 - val_acc: 0.8095\n",
      "Epoch 13/100\n",
      "12/12 [==============================] - 0s 15ms/step - loss: 0.6321 - acc: 0.6930 - val_loss: 0.6363 - val_acc: 0.6190\n",
      "Epoch 14/100\n",
      "12/12 [==============================] - 0s 9ms/step - loss: 0.5990 - acc: 0.6842 - val_loss: 0.5946 - val_acc: 0.6190\n",
      "Epoch 15/100\n",
      "12/12 [==============================] - 0s 11ms/step - loss: 0.5800 - acc: 0.8246 - val_loss: 0.5545 - val_acc: 0.9524\n",
      "Epoch 16/100\n",
      "12/12 [==============================] - 0s 6ms/step - loss: 0.5573 - acc: 0.8860 - val_loss: 0.5394 - val_acc: 0.9048\n",
      "Epoch 17/100\n",
      "12/12 [==============================] - 0s 6ms/step - loss: 0.5407 - acc: 0.7456 - val_loss: 0.5381 - val_acc: 0.6190\n",
      "Epoch 18/100\n",
      "12/12 [==============================] - 0s 4ms/step - loss: 0.5256 - acc: 0.7018 - val_loss: 0.5271 - val_acc: 0.6190\n",
      "Epoch 19/100\n",
      "12/12 [==============================] - 0s 5ms/step - loss: 0.5112 - acc: 0.7895 - val_loss: 0.4945 - val_acc: 0.9048\n",
      "Epoch 20/100\n",
      "12/12 [==============================] - 0s 6ms/step - loss: 0.4944 - acc: 0.8246 - val_loss: 0.4889 - val_acc: 0.8095\n",
      "Epoch 21/100\n",
      "12/12 [==============================] - 0s 8ms/step - loss: 0.4848 - acc: 0.7632 - val_loss: 0.4781 - val_acc: 0.8095\n",
      "Epoch 22/100\n",
      "12/12 [==============================] - 0s 11ms/step - loss: 0.4724 - acc: 0.8684 - val_loss: 0.4483 - val_acc: 0.9524\n",
      "Epoch 23/100\n",
      "12/12 [==============================] - 0s 7ms/step - loss: 0.4650 - acc: 0.9035 - val_loss: 0.4466 - val_acc: 0.9048\n",
      "Epoch 24/100\n",
      "12/12 [==============================] - 0s 9ms/step - loss: 0.4500 - acc: 0.8421 - val_loss: 0.4355 - val_acc: 0.9048\n",
      "Epoch 25/100\n",
      "12/12 [==============================] - 0s 6ms/step - loss: 0.4451 - acc: 0.8860 - val_loss: 0.4234 - val_acc: 0.9048\n",
      "Epoch 26/100\n",
      "12/12 [==============================] - 0s 10ms/step - loss: 0.4394 - acc: 0.7895 - val_loss: 0.4290 - val_acc: 0.8571\n",
      "Epoch 27/100\n",
      "12/12 [==============================] - 0s 8ms/step - loss: 0.4266 - acc: 0.8421 - val_loss: 0.3971 - val_acc: 0.9524\n",
      "Epoch 28/100\n",
      "12/12 [==============================] - 0s 12ms/step - loss: 0.4168 - acc: 0.8860 - val_loss: 0.3925 - val_acc: 0.9524\n",
      "Epoch 29/100\n",
      "12/12 [==============================] - 0s 12ms/step - loss: 0.4064 - acc: 0.9211 - val_loss: 0.3843 - val_acc: 0.9524\n",
      "Epoch 30/100\n",
      "12/12 [==============================] - 0s 6ms/step - loss: 0.4027 - acc: 0.8684 - val_loss: 0.3808 - val_acc: 0.9048\n",
      "Epoch 31/100\n",
      "12/12 [==============================] - 0s 5ms/step - loss: 0.3909 - acc: 0.8947 - val_loss: 0.3660 - val_acc: 0.9524\n",
      "Epoch 32/100\n",
      "12/12 [==============================] - 0s 6ms/step - loss: 0.3865 - acc: 0.9386 - val_loss: 0.3604 - val_acc: 0.9524\n",
      "Epoch 33/100\n",
      "12/12 [==============================] - 0s 6ms/step - loss: 0.3826 - acc: 0.9298 - val_loss: 0.3442 - val_acc: 1.0000\n",
      "Epoch 34/100\n",
      "12/12 [==============================] - 0s 6ms/step - loss: 0.3728 - acc: 0.9211 - val_loss: 0.3497 - val_acc: 0.9524\n",
      "Epoch 35/100\n",
      "12/12 [==============================] - 0s 10ms/step - loss: 0.3669 - acc: 0.8772 - val_loss: 0.3376 - val_acc: 0.9524\n",
      "Epoch 36/100\n",
      "12/12 [==============================] - 0s 12ms/step - loss: 0.3569 - acc: 0.9474 - val_loss: 0.3244 - val_acc: 1.0000\n",
      "Epoch 37/100\n",
      "12/12 [==============================] - 0s 6ms/step - loss: 0.3537 - acc: 0.9474 - val_loss: 0.3135 - val_acc: 1.0000\n",
      "Epoch 38/100\n",
      "12/12 [==============================] - 0s 7ms/step - loss: 0.3495 - acc: 0.9123 - val_loss: 0.3307 - val_acc: 0.9048\n",
      "Epoch 39/100\n",
      "12/12 [==============================] - 0s 4ms/step - loss: 0.3424 - acc: 0.8947 - val_loss: 0.3089 - val_acc: 1.0000\n",
      "Epoch 40/100\n",
      "12/12 [==============================] - 0s 7ms/step - loss: 0.3496 - acc: 0.9386 - val_loss: 0.2915 - val_acc: 1.0000\n",
      "Epoch 41/100\n",
      "12/12 [==============================] - 0s 8ms/step - loss: 0.3328 - acc: 0.9386 - val_loss: 0.3055 - val_acc: 0.9524\n",
      "Epoch 42/100\n",
      "12/12 [==============================] - 0s 9ms/step - loss: 0.3273 - acc: 0.9211 - val_loss: 0.2881 - val_acc: 1.0000\n",
      "Epoch 43/100\n",
      "12/12 [==============================] - 0s 11ms/step - loss: 0.3197 - acc: 0.9474 - val_loss: 0.2807 - val_acc: 1.0000\n",
      "Epoch 44/100\n",
      "12/12 [==============================] - 0s 10ms/step - loss: 0.3136 - acc: 0.9386 - val_loss: 0.2724 - val_acc: 1.0000\n",
      "Epoch 45/100\n",
      "12/12 [==============================] - 0s 4ms/step - loss: 0.3072 - acc: 0.9649 - val_loss: 0.2636 - val_acc: 1.0000\n",
      "Epoch 46/100\n",
      "12/12 [==============================] - 0s 4ms/step - loss: 0.3030 - acc: 0.9474 - val_loss: 0.2635 - val_acc: 1.0000\n",
      "Epoch 47/100\n",
      "12/12 [==============================] - 0s 6ms/step - loss: 0.2970 - acc: 0.9561 - val_loss: 0.2558 - val_acc: 1.0000\n",
      "Epoch 48/100\n",
      "12/12 [==============================] - 0s 5ms/step - loss: 0.3005 - acc: 0.9386 - val_loss: 0.2632 - val_acc: 1.0000\n",
      "Epoch 49/100\n",
      "12/12 [==============================] - 0s 8ms/step - loss: 0.2993 - acc: 0.9561 - val_loss: 0.2385 - val_acc: 1.0000\n",
      "Epoch 50/100\n",
      "12/12 [==============================] - 0s 11ms/step - loss: 0.2826 - acc: 0.9474 - val_loss: 0.2482 - val_acc: 1.0000\n",
      "Epoch 51/100\n",
      "12/12 [==============================] - 0s 7ms/step - loss: 0.2943 - acc: 0.9211 - val_loss: 0.2382 - val_acc: 1.0000\n",
      "Epoch 52/100\n",
      "12/12 [==============================] - 0s 12ms/step - loss: 0.2859 - acc: 0.9561 - val_loss: 0.2238 - val_acc: 1.0000\n",
      "Epoch 53/100\n",
      "12/12 [==============================] - 0s 8ms/step - loss: 0.2695 - acc: 0.9561 - val_loss: 0.2312 - val_acc: 1.0000\n",
      "Epoch 54/100\n",
      "12/12 [==============================] - 0s 14ms/step - loss: 0.2712 - acc: 0.9561 - val_loss: 0.2192 - val_acc: 1.0000\n",
      "Epoch 55/100\n",
      "12/12 [==============================] - 0s 16ms/step - loss: 0.2665 - acc: 0.9474 - val_loss: 0.2203 - val_acc: 1.0000\n",
      "Epoch 56/100\n",
      "12/12 [==============================] - 0s 9ms/step - loss: 0.2583 - acc: 0.9649 - val_loss: 0.2080 - val_acc: 1.0000\n",
      "Epoch 57/100\n",
      "12/12 [==============================] - 0s 9ms/step - loss: 0.2554 - acc: 0.9561 - val_loss: 0.2060 - val_acc: 1.0000\n",
      "Epoch 58/100\n",
      "12/12 [==============================] - 0s 6ms/step - loss: 0.2518 - acc: 0.9474 - val_loss: 0.2049 - val_acc: 1.0000\n",
      "Epoch 59/100\n",
      "12/12 [==============================] - 0s 7ms/step - loss: 0.2494 - acc: 0.9561 - val_loss: 0.1958 - val_acc: 1.0000\n",
      "Epoch 60/100\n",
      "12/12 [==============================] - 0s 9ms/step - loss: 0.2462 - acc: 0.9649 - val_loss: 0.1908 - val_acc: 1.0000\n",
      "Epoch 61/100\n",
      "12/12 [==============================] - 0s 8ms/step - loss: 0.2419 - acc: 0.9561 - val_loss: 0.1954 - val_acc: 1.0000\n",
      "Epoch 62/100\n",
      "12/12 [==============================] - 0s 6ms/step - loss: 0.2373 - acc: 0.9474 - val_loss: 0.1867 - val_acc: 1.0000\n",
      "Epoch 63/100\n"
     ]
    },
    {
     "name": "stdout",
     "output_type": "stream",
     "text": [
      "12/12 [==============================] - 0s 3ms/step - loss: 0.2389 - acc: 0.9649 - val_loss: 0.1775 - val_acc: 1.0000\n",
      "Epoch 64/100\n",
      "12/12 [==============================] - 0s 9ms/step - loss: 0.2392 - acc: 0.9298 - val_loss: 0.1935 - val_acc: 1.0000\n",
      "Epoch 65/100\n",
      "12/12 [==============================] - 0s 5ms/step - loss: 0.2314 - acc: 0.9298 - val_loss: 0.1704 - val_acc: 1.0000\n",
      "Epoch 66/100\n",
      "12/12 [==============================] - 0s 4ms/step - loss: 0.2258 - acc: 0.9649 - val_loss: 0.1711 - val_acc: 1.0000\n",
      "Epoch 67/100\n",
      "12/12 [==============================] - 0s 6ms/step - loss: 0.2206 - acc: 0.9561 - val_loss: 0.1671 - val_acc: 1.0000\n",
      "Epoch 68/100\n",
      "12/12 [==============================] - 0s 6ms/step - loss: 0.2180 - acc: 0.9649 - val_loss: 0.1636 - val_acc: 1.0000\n",
      "Epoch 69/100\n",
      "12/12 [==============================] - 0s 8ms/step - loss: 0.2152 - acc: 0.9649 - val_loss: 0.1599 - val_acc: 1.0000\n",
      "Epoch 70/100\n",
      "12/12 [==============================] - 0s 8ms/step - loss: 0.2128 - acc: 0.9649 - val_loss: 0.1571 - val_acc: 1.0000\n",
      "Epoch 71/100\n",
      "12/12 [==============================] - 0s 5ms/step - loss: 0.2126 - acc: 0.9649 - val_loss: 0.1590 - val_acc: 1.0000\n",
      "Epoch 72/100\n",
      "12/12 [==============================] - 0s 6ms/step - loss: 0.2074 - acc: 0.9649 - val_loss: 0.1512 - val_acc: 1.0000\n",
      "Epoch 73/100\n",
      "12/12 [==============================] - 0s 5ms/step - loss: 0.2085 - acc: 0.9649 - val_loss: 0.1464 - val_acc: 1.0000\n",
      "Epoch 74/100\n",
      "12/12 [==============================] - 0s 10ms/step - loss: 0.2000 - acc: 0.9561 - val_loss: 0.1560 - val_acc: 1.0000\n",
      "Epoch 75/100\n",
      "12/12 [==============================] - 0s 9ms/step - loss: 0.2075 - acc: 0.9474 - val_loss: 0.1425 - val_acc: 1.0000\n",
      "Epoch 76/100\n",
      "12/12 [==============================] - 0s 7ms/step - loss: 0.2002 - acc: 0.9561 - val_loss: 0.1402 - val_acc: 1.0000\n",
      "Epoch 77/100\n",
      "12/12 [==============================] - 0s 6ms/step - loss: 0.1956 - acc: 0.9561 - val_loss: 0.1394 - val_acc: 1.0000\n",
      "Epoch 78/100\n",
      "12/12 [==============================] - 0s 5ms/step - loss: 0.1962 - acc: 0.9649 - val_loss: 0.1337 - val_acc: 1.0000\n",
      "Epoch 79/100\n",
      "12/12 [==============================] - 0s 4ms/step - loss: 0.1952 - acc: 0.9474 - val_loss: 0.1406 - val_acc: 1.0000\n",
      "Epoch 80/100\n",
      "12/12 [==============================] - 0s 7ms/step - loss: 0.1882 - acc: 0.9561 - val_loss: 0.1286 - val_acc: 1.0000\n",
      "Epoch 81/100\n",
      "12/12 [==============================] - 0s 6ms/step - loss: 0.1918 - acc: 0.9561 - val_loss: 0.1258 - val_acc: 1.0000\n",
      "Epoch 82/100\n",
      "12/12 [==============================] - 0s 8ms/step - loss: 0.1867 - acc: 0.9561 - val_loss: 0.1357 - val_acc: 1.0000\n",
      "Epoch 83/100\n",
      "12/12 [==============================] - 0s 7ms/step - loss: 0.1847 - acc: 0.9474 - val_loss: 0.1257 - val_acc: 1.0000\n",
      "Epoch 84/100\n",
      "12/12 [==============================] - 0s 5ms/step - loss: 0.1939 - acc: 0.9561 - val_loss: 0.1204 - val_acc: 1.0000\n",
      "Epoch 85/100\n",
      "12/12 [==============================] - 0s 4ms/step - loss: 0.2196 - acc: 0.9298 - val_loss: 0.1401 - val_acc: 1.0000\n",
      "Epoch 86/100\n",
      "12/12 [==============================] - 0s 6ms/step - loss: 0.1880 - acc: 0.9474 - val_loss: 0.1183 - val_acc: 1.0000\n",
      "Epoch 87/100\n",
      "12/12 [==============================] - 0s 7ms/step - loss: 0.1850 - acc: 0.9561 - val_loss: 0.1216 - val_acc: 1.0000\n",
      "Epoch 88/100\n",
      "12/12 [==============================] - 0s 9ms/step - loss: 0.1742 - acc: 0.9737 - val_loss: 0.1128 - val_acc: 1.0000\n",
      "Epoch 89/100\n",
      "12/12 [==============================] - 0s 7ms/step - loss: 0.1752 - acc: 0.9561 - val_loss: 0.1118 - val_acc: 1.0000\n",
      "Epoch 90/100\n",
      "12/12 [==============================] - 0s 5ms/step - loss: 0.1696 - acc: 0.9649 - val_loss: 0.1091 - val_acc: 1.0000\n",
      "Epoch 91/100\n",
      "12/12 [==============================] - 0s 5ms/step - loss: 0.1702 - acc: 0.9561 - val_loss: 0.1100 - val_acc: 1.0000\n",
      "Epoch 92/100\n",
      "12/12 [==============================] - 0s 6ms/step - loss: 0.1664 - acc: 0.9649 - val_loss: 0.1070 - val_acc: 1.0000\n",
      "Epoch 93/100\n",
      "12/12 [==============================] - 0s 6ms/step - loss: 0.1669 - acc: 0.9649 - val_loss: 0.1046 - val_acc: 1.0000\n",
      "Epoch 94/100\n",
      "12/12 [==============================] - 0s 11ms/step - loss: 0.1641 - acc: 0.9649 - val_loss: 0.1033 - val_acc: 1.0000\n",
      "Epoch 95/100\n",
      "12/12 [==============================] - 0s 6ms/step - loss: 0.1654 - acc: 0.9649 - val_loss: 0.1066 - val_acc: 1.0000\n",
      "Epoch 96/100\n",
      "12/12 [==============================] - 0s 10ms/step - loss: 0.1619 - acc: 0.9561 - val_loss: 0.1006 - val_acc: 1.0000\n",
      "Epoch 97/100\n",
      "12/12 [==============================] - 0s 4ms/step - loss: 0.1586 - acc: 0.9561 - val_loss: 0.0986 - val_acc: 1.0000\n",
      "Epoch 98/100\n",
      "12/12 [==============================] - 0s 7ms/step - loss: 0.1602 - acc: 0.9649 - val_loss: 0.0972 - val_acc: 1.0000\n",
      "Epoch 99/100\n",
      "12/12 [==============================] - 0s 6ms/step - loss: 0.1592 - acc: 0.9649 - val_loss: 0.1006 - val_acc: 1.0000\n",
      "Epoch 100/100\n",
      "12/12 [==============================] - 0s 8ms/step - loss: 0.1529 - acc: 0.9649 - val_loss: 0.0939 - val_acc: 1.0000\n"
     ]
    },
    {
     "data": {
      "text/plain": [
       "<keras.callbacks.History at 0x14d7db2b0>"
      ]
     },
     "execution_count": 10,
     "metadata": {},
     "output_type": "execute_result"
    }
   ],
   "source": [
    "model.fit(X_train,Y_train,epochs=100,batch_size=10,validation_data=(X_val,Y_val))"
   ]
  },
  {
   "cell_type": "code",
   "execution_count": 11,
   "metadata": {
    "colab": {
     "base_uri": "https://localhost:8080/"
    },
    "executionInfo": {
     "elapsed": 12,
     "status": "ok",
     "timestamp": 1637995489879,
     "user": {
      "displayName": "Ananda A. Ramadhan",
      "photoUrl": "https://lh3.googleusercontent.com/a-/AOh14Ghp6Ch6lGTpZd2AxX-m09cYp6FggnLcazsjdbZheQ=s64",
      "userId": "07322302670416758807"
     },
     "user_tz": -420
    },
    "id": "pTJQ2yyOIpVc",
    "outputId": "bffd154a-8405-43f1-991d-3e586bc1f82b"
   },
   "outputs": [
    {
     "name": "stdout",
     "output_type": "stream",
     "text": [
      "Model: \"sequential\"\n",
      "_________________________________________________________________\n",
      "Layer (type)                 Output Shape              Param #   \n",
      "=================================================================\n",
      "flatten (Flatten)            (None, 4)                 0         \n",
      "_________________________________________________________________\n",
      "dense (Dense)                (None, 64)                320       \n",
      "_________________________________________________________________\n",
      "dense_1 (Dense)              (None, 3)                 195       \n",
      "=================================================================\n",
      "Total params: 515\n",
      "Trainable params: 515\n",
      "Non-trainable params: 0\n",
      "_________________________________________________________________\n"
     ]
    }
   ],
   "source": [
    "model.summary()"
   ]
  },
  {
   "cell_type": "code",
   "execution_count": 12,
   "metadata": {
    "colab": {
     "base_uri": "https://localhost:8080/"
    },
    "executionInfo": {
     "elapsed": 5,
     "status": "ok",
     "timestamp": 1637995489879,
     "user": {
      "displayName": "Ananda A. Ramadhan",
      "photoUrl": "https://lh3.googleusercontent.com/a-/AOh14Ghp6Ch6lGTpZd2AxX-m09cYp6FggnLcazsjdbZheQ=s64",
      "userId": "07322302670416758807"
     },
     "user_tz": -420
    },
    "id": "SJA1C2YoIpVc",
    "outputId": "afdcc7e8-b5e8-4073-a0c1-88a8d32d4e0f"
   },
   "outputs": [
    {
     "name": "stdout",
     "output_type": "stream",
     "text": [
      "1/1 [==============================] - 0s 32ms/step - loss: 0.0713 - acc: 1.0000\n",
      "Akurasi Testing ANN: 1.0\n"
     ]
    }
   ],
   "source": [
    "from sklearn.metrics import confusion_matrix\n",
    "\n",
    "loss, accuracy = model.evaluate(X_test, Y_test)\n",
    "print('Akurasi Testing ANN:', accuracy)\n"
   ]
  },
  {
   "cell_type": "code",
   "execution_count": null,
   "metadata": {},
   "outputs": [],
   "source": []
  }
 ],
 "metadata": {
  "colab": {
   "name": "2. Contoh Kasus_ANN Iris.ipynb",
   "provenance": []
  },
  "kernelspec": {
   "display_name": "Python 3 (ipykernel)",
   "language": "python",
   "name": "python3"
  },
  "language_info": {
   "codemirror_mode": {
    "name": "ipython",
    "version": 3
   },
   "file_extension": ".py",
   "mimetype": "text/x-python",
   "name": "python",
   "nbconvert_exporter": "python",
   "pygments_lexer": "ipython3",
   "version": "3.9.5"
  }
 },
 "nbformat": 4,
 "nbformat_minor": 1
}
