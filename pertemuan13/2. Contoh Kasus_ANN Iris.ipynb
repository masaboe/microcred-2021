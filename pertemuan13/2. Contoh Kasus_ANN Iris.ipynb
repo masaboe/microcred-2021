{
 "cells": [
  {
   "cell_type": "markdown",
   "metadata": {
    "id": "RmbevFuLIpVU"
   },
   "source": [
    "![header%20ipynb.png](attachment:header%20ipynb.png)"
   ]
  },
  {
   "cell_type": "markdown",
   "metadata": {
    "id": "VUZDE9sTIpVY"
   },
   "source": [
    "<div class=\"alert alert-block alert-danger\">\n",
    "<b>Package version :</b>\n",
    "    <ol>\n",
    "    <li>Tensorflow 2.4.1</li>\n",
    "    <li>Keras 2.4.3</li>\n",
    "    <li>Matplotlib 3.5.0</li>\n",
    "    <li>Scikit-learn 0.23.2</li>\n",
    "    </ol>\n",
    "</div>"
   ]
  },
  {
   "cell_type": "code",
   "execution_count": null,
   "metadata": {
    "executionInfo": {
     "elapsed": 6,
     "status": "ok",
     "timestamp": 1637995479232,
     "user": {
      "displayName": "Ananda A. Ramadhan",
      "photoUrl": "https://lh3.googleusercontent.com/a-/AOh14Ghp6Ch6lGTpZd2AxX-m09cYp6FggnLcazsjdbZheQ=s64",
      "userId": "07322302670416758807"
     },
     "user_tz": -420
    },
    "id": "iE0h3uQWIpVZ"
   },
   "outputs": [],
   "source": [
    "## Just disables the warning, doesn't take advantage of AVX/FMA to run faster\n",
    "# import os\n",
    "# os.environ['TF_CPP_MIN_LOG_LEVEL'] = '2'"
   ]
  },
  {
   "cell_type": "code",
   "execution_count": null,
   "metadata": {
    "executionInfo": {
     "elapsed": 1137,
     "status": "ok",
     "timestamp": 1637995480365,
     "user": {
      "displayName": "Ananda A. Ramadhan",
      "photoUrl": "https://lh3.googleusercontent.com/a-/AOh14Ghp6Ch6lGTpZd2AxX-m09cYp6FggnLcazsjdbZheQ=s64",
      "userId": "07322302670416758807"
     },
     "user_tz": -420
    },
    "id": "YtGw8AoLIpVZ"
   },
   "outputs": [],
   "source": [
    "from sklearn import datasets\n",
    "from sklearn.model_selection import train_test_split\n",
    "\n",
    "iris = datasets.load_iris()\n",
    "\n",
    "X = iris.data\n",
    "y = iris.target"
   ]
  },
  {
   "cell_type": "code",
   "execution_count": null,
   "metadata": {
    "colab": {
     "base_uri": "https://localhost:8080/"
    },
    "executionInfo": {
     "elapsed": 7,
     "status": "ok",
     "timestamp": 1637995480365,
     "user": {
      "displayName": "Ananda A. Ramadhan",
      "photoUrl": "https://lh3.googleusercontent.com/a-/AOh14Ghp6Ch6lGTpZd2AxX-m09cYp6FggnLcazsjdbZheQ=s64",
      "userId": "07322302670416758807"
     },
     "user_tz": -420
    },
    "id": "DFm32ZjpIpVa",
    "outputId": "bde87b21-733d-4195-a578-670fd063f328"
   },
   "outputs": [],
   "source": [
    "X_train, X_test, Y_train, Y_test = train_test_split(X, y, test_size=.10)\n",
    "X_train, X_val, Y_train, Y_val = train_test_split(X_train, Y_train, test_size=.15)\n",
    "print('X_train', X_train.shape)\n",
    "print('X_val', X_val.shape)\n",
    "print('X_test', X_test.shape)"
   ]
  },
  {
   "cell_type": "code",
   "execution_count": null,
   "metadata": {
    "executionInfo": {
     "elapsed": 4,
     "status": "ok",
     "timestamp": 1637995480365,
     "user": {
      "displayName": "Ananda A. Ramadhan",
      "photoUrl": "https://lh3.googleusercontent.com/a-/AOh14Ghp6Ch6lGTpZd2AxX-m09cYp6FggnLcazsjdbZheQ=s64",
      "userId": "07322302670416758807"
     },
     "user_tz": -420
    },
    "id": "WOYFwz-YIpVa"
   },
   "outputs": [],
   "source": [
    "from sklearn.neural_network import MLPClassifier\n",
    "\n",
    "mlp = MLPClassifier(hidden_layer_sizes=(64, ), activation='relu',max_iter=1000, epsilon=1e-08)"
   ]
  },
  {
   "cell_type": "code",
   "execution_count": null,
   "metadata": {
    "colab": {
     "base_uri": "https://localhost:8080/"
    },
    "executionInfo": {
     "elapsed": 488,
     "status": "ok",
     "timestamp": 1637995480849,
     "user": {
      "displayName": "Ananda A. Ramadhan",
      "photoUrl": "https://lh3.googleusercontent.com/a-/AOh14Ghp6Ch6lGTpZd2AxX-m09cYp6FggnLcazsjdbZheQ=s64",
      "userId": "07322302670416758807"
     },
     "user_tz": -420
    },
    "id": "NsNp6XhOIpVa",
    "outputId": "0eef77d7-4b70-4117-aec7-a63332520a84"
   },
   "outputs": [],
   "source": [
    "from sklearn.metrics import accuracy_score\n",
    "\n",
    "mlp.fit(X_train, Y_train)\n",
    "prediksi_val = mlp.predict(X_val)\n",
    "acc_val = accuracy_score(Y_val, prediksi_val)\n",
    "print('Akurasi Validasi Training ANN:', acc_val)"
   ]
  },
  {
   "cell_type": "code",
   "execution_count": null,
   "metadata": {
    "colab": {
     "base_uri": "https://localhost:8080/"
    },
    "executionInfo": {
     "elapsed": 8,
     "status": "ok",
     "timestamp": 1637995480849,
     "user": {
      "displayName": "Ananda A. Ramadhan",
      "photoUrl": "https://lh3.googleusercontent.com/a-/AOh14Ghp6Ch6lGTpZd2AxX-m09cYp6FggnLcazsjdbZheQ=s64",
      "userId": "07322302670416758807"
     },
     "user_tz": -420
    },
    "id": "_y56PN_vIpVb",
    "outputId": "a0583fdb-b59a-475a-9d23-fd2dc8247156"
   },
   "outputs": [],
   "source": [
    "prediksi_test = mlp.predict(X_test)\n",
    "acc_test = accuracy_score(Y_test, prediksi_test)\n",
    "print('Akurasi Testing ANN:', acc_test)"
   ]
  },
  {
   "cell_type": "code",
   "execution_count": null,
   "metadata": {
    "colab": {
     "base_uri": "https://localhost:8080/",
     "height": 354
    },
    "executionInfo": {
     "elapsed": 675,
     "status": "ok",
     "timestamp": 1637995481521,
     "user": {
      "displayName": "Ananda A. Ramadhan",
      "photoUrl": "https://lh3.googleusercontent.com/a-/AOh14Ghp6Ch6lGTpZd2AxX-m09cYp6FggnLcazsjdbZheQ=s64",
      "userId": "07322302670416758807"
     },
     "user_tz": -420
    },
    "id": "iKEn2Lp8IpVb",
    "outputId": "a67654c9-229b-40f5-bee4-9e041615bbb2"
   },
   "outputs": [],
   "source": [
    "from sklearn.metrics import accuracy_score, plot_confusion_matrix\n",
    "\n",
    "prediksi = mlp.predict(X_test)\n",
    "plot_confusion_matrix(mlp, X_test, Y_test)\n",
    "accuracy = accuracy_score(Y_test, prediksi)\n",
    "print('Akurasi Testing ANN:', accuracy)"
   ]
  },
  {
   "cell_type": "code",
   "execution_count": null,
   "metadata": {
    "executionInfo": {
     "elapsed": 2189,
     "status": "ok",
     "timestamp": 1637995483704,
     "user": {
      "displayName": "Ananda A. Ramadhan",
      "photoUrl": "https://lh3.googleusercontent.com/a-/AOh14Ghp6Ch6lGTpZd2AxX-m09cYp6FggnLcazsjdbZheQ=s64",
      "userId": "07322302670416758807"
     },
     "user_tz": -420
    },
    "id": "vnnyUNyyIpVb"
   },
   "outputs": [],
   "source": [
    "# from keras.utils import to_categorical\n",
    "\n",
    "from tensorflow.keras.utils import to_categorical\n",
    "\n",
    "\n",
    "Y_train = to_categorical(Y_train,3)\n",
    "Y_val = to_categorical(Y_val,3)\n",
    "Y_test = to_categorical(Y_test,3)"
   ]
  },
  {
   "cell_type": "code",
   "execution_count": null,
   "metadata": {
    "executionInfo": {
     "elapsed": 4,
     "status": "ok",
     "timestamp": 1637995483705,
     "user": {
      "displayName": "Ananda A. Ramadhan",
      "photoUrl": "https://lh3.googleusercontent.com/a-/AOh14Ghp6Ch6lGTpZd2AxX-m09cYp6FggnLcazsjdbZheQ=s64",
      "userId": "07322302670416758807"
     },
     "user_tz": -420
    },
    "id": "XML8SdvdIpVb"
   },
   "outputs": [],
   "source": [
    "from keras.models import Sequential\n",
    "from keras.layers import Flatten, Dense\n",
    "\n",
    "model = Sequential()\n",
    "model.add(Flatten())\n",
    "model.add(Dense(64,activation='relu'))\n",
    "model.add(Dense(3,activation='softmax'))\n",
    "\n",
    "model.compile(optimizer='adam',loss='categorical_crossentropy', metrics=['acc'])"
   ]
  },
  {
   "cell_type": "code",
   "execution_count": null,
   "metadata": {
    "colab": {
     "base_uri": "https://localhost:8080/"
    },
    "executionInfo": {
     "elapsed": 6177,
     "status": "ok",
     "timestamp": 1637995489879,
     "user": {
      "displayName": "Ananda A. Ramadhan",
      "photoUrl": "https://lh3.googleusercontent.com/a-/AOh14Ghp6Ch6lGTpZd2AxX-m09cYp6FggnLcazsjdbZheQ=s64",
      "userId": "07322302670416758807"
     },
     "user_tz": -420
    },
    "id": "c8jqrlzvIpVb",
    "outputId": "9ec0e6b6-b2b1-4452-de3e-304a62bdea0e"
   },
   "outputs": [],
   "source": [
    "model.fit(X_train,Y_train,epochs=100,batch_size=10,validation_data=(X_val,Y_val))"
   ]
  },
  {
   "cell_type": "code",
   "execution_count": null,
   "metadata": {
    "colab": {
     "base_uri": "https://localhost:8080/"
    },
    "executionInfo": {
     "elapsed": 12,
     "status": "ok",
     "timestamp": 1637995489879,
     "user": {
      "displayName": "Ananda A. Ramadhan",
      "photoUrl": "https://lh3.googleusercontent.com/a-/AOh14Ghp6Ch6lGTpZd2AxX-m09cYp6FggnLcazsjdbZheQ=s64",
      "userId": "07322302670416758807"
     },
     "user_tz": -420
    },
    "id": "pTJQ2yyOIpVc",
    "outputId": "bffd154a-8405-43f1-991d-3e586bc1f82b"
   },
   "outputs": [],
   "source": [
    "model.summary()"
   ]
  },
  {
   "cell_type": "code",
   "execution_count": null,
   "metadata": {
    "colab": {
     "base_uri": "https://localhost:8080/"
    },
    "executionInfo": {
     "elapsed": 5,
     "status": "ok",
     "timestamp": 1637995489879,
     "user": {
      "displayName": "Ananda A. Ramadhan",
      "photoUrl": "https://lh3.googleusercontent.com/a-/AOh14Ghp6Ch6lGTpZd2AxX-m09cYp6FggnLcazsjdbZheQ=s64",
      "userId": "07322302670416758807"
     },
     "user_tz": -420
    },
    "id": "SJA1C2YoIpVc",
    "outputId": "afdcc7e8-b5e8-4073-a0c1-88a8d32d4e0f"
   },
   "outputs": [],
   "source": [
    "from sklearn.metrics import confusion_matrix\n",
    "\n",
    "loss, accuracy = model.evaluate(X_test, Y_test)\n",
    "print('Akurasi Testing ANN:', accuracy)\n"
   ]
  },
  {
   "cell_type": "code",
   "execution_count": null,
   "metadata": {},
   "outputs": [],
   "source": []
  }
 ],
 "metadata": {
  "colab": {
   "name": "2. Contoh Kasus_ANN Iris.ipynb",
   "provenance": []
  },
  "kernelspec": {
   "display_name": "Python 3 (ipykernel)",
   "language": "python",
   "name": "python3"
  },
  "language_info": {
   "codemirror_mode": {
    "name": "ipython",
    "version": 3
   },
   "file_extension": ".py",
   "mimetype": "text/x-python",
   "name": "python",
   "nbconvert_exporter": "python",
   "pygments_lexer": "ipython3",
   "version": "3.9.5"
  }
 },
 "nbformat": 4,
 "nbformat_minor": 1
}
